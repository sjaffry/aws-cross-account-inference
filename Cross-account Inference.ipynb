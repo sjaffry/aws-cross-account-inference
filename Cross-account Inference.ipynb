{
 "cells": [
  {
   "cell_type": "markdown",
   "id": "fdf62077",
   "metadata": {},
   "source": [
    "## Cross-account invoke example\n",
    "### Invoke a Sagemaker Endpoint in another AWS account from an app (or notebook instance) that is in a private VPC (no internet) using cross-account assume role and private link\n",
    "\n",
    "#### This example code simulates an app that runs inside a VPC that has no internet gateway, i.e. no inbound / outbound internet connectivity. It demonstrates two things:\n",
    "1. How you can use AWS Private Link (interface endpoints) for STS and Sagemaker to talk to these services over private networking\n",
    "2. How you can invoke an endpoint running on another AWS account\n",
    "\n",
    "#### To run this example successfully, you need to complete the following pre-requisites:\n",
    "1. Have two AWS accounts, Acc A (consumer) and Acc B (provider). Acc B will host the Sagemaker endpoint, which Acc A will invoke\n",
    "2. Go to Acc B and create the \"house price prediction by city\" Sagemaker Endpoint using [this](https://github.com/aws/amazon-sagemaker-examples/blob/main/advanced_functionality/multi_model_xgboost_home_value/xgboost_multi_model_endpoint_home_value.ipynb) notebook\n",
    "3. Create an IAM role in Acc B that grants Acc A permissions to call Sagemaker in Acc B (it's done by creating a new role with \"Trusted Entity\" = Account). Attach a trust policy to the role that allows Acc A to assume this role\n",
    "4. Create an IAM role in Acc A that has permissions to call Sagemaker and also a custom policy that enables Acc A to assume the IAM role created in step 3\n",
    "5. Create a VPC endpoint for Sagemaker-runtime in Acc A, ensure private dns is enabled and VPC endpoint is in the same subnet and same security group as the Sagemaer notebook instance running this notebook \n",
    "6. Create a VPC endpoint for sts in Acc A, ensure private dns is enabled and VPC endpoint is in the same subnet and same security group as the Sagemaer notebook instance running this notebook \n",
    "7. Ensure that the Sagemaker notebook instance running this notebook has the IAM role attached that you craeted in step 4\n",
    "\n"
   ]
  },
  {
   "cell_type": "markdown",
   "id": "f23787ed",
   "metadata": {},
   "source": [
    "## Run this code in a Sagemaker Notebook in Acc A (consumer AWS account)"
   ]
  },
  {
   "cell_type": "markdown",
   "id": "072bf0db",
   "metadata": {},
   "source": [
    "## Imports"
   ]
  },
  {
   "cell_type": "code",
   "execution_count": null,
   "id": "60fcc8af",
   "metadata": {},
   "outputs": [],
   "source": [
    "import numpy as np\n",
    "import pandas as pd\n",
    "import boto3\n",
    "import sagemaker\n",
    "print(\"Sagemaker version: \"+sagemaker.__version__)"
   ]
  },
  {
   "cell_type": "markdown",
   "id": "ebf12488",
   "metadata": {},
   "source": [
    "## Setup the STS client\n",
    "Notice that I'm explictly specifying region and endpoint_url. This is because, by default, Boto3 sdk uses the global DNS name for STS, which won't go through the Interface endpoint you created"
   ]
  },
  {
   "cell_type": "code",
   "execution_count": 22,
   "id": "607ada39",
   "metadata": {},
   "outputs": [],
   "source": [
    "sts = boto3.client(\"sts\", \n",
    "                   region_name=\"us-east-1\",\n",
    "                   endpoint_url=\"https://sts.us-east-1.amazonaws.com\")"
   ]
  },
  {
   "cell_type": "code",
   "execution_count": 23,
   "id": "a3f178fa",
   "metadata": {},
   "outputs": [],
   "source": [
    "sts = boto3.client(\"sts\", \n",
    "                   endpoint_url=\"https://sts.us-east-1.amazonaws.com\")"
   ]
  },
  {
   "cell_type": "markdown",
   "id": "0d60cd40",
   "metadata": {},
   "source": [
    "### This is the cross account IAM role you created earlier"
   ]
  },
  {
   "cell_type": "code",
   "execution_count": 24,
   "id": "2d1907dd",
   "metadata": {},
   "outputs": [],
   "source": [
    "CROSS_ACCOUNT_ASSUME_ROLE = \"arn:aws:iam::[Acc B Id]:role/Sagemaker-cross-acc-role\""
   ]
  },
  {
   "cell_type": "code",
   "execution_count": 25,
   "id": "319a1628",
   "metadata": {},
   "outputs": [],
   "source": [
    "response = sts.assume_role(RoleArn=CROSS_ACCOUNT_ASSUME_ROLE, \n",
    "                           RoleSessionName=\"InferenceCrossAccountAccessDemo\",\n",
    "                                     ExternalId=\"[Acc B Id]\")"
   ]
  },
  {
   "cell_type": "markdown",
   "id": "f84a1e5f",
   "metadata": {},
   "source": [
    "## Setup Sagemaker client and invoke the endpoint in the other account"
   ]
  },
  {
   "cell_type": "code",
   "execution_count": 26,
   "id": "fbc71347",
   "metadata": {},
   "outputs": [],
   "source": [
    "sm = boto3.client(\n",
    "    \"sagemaker-runtime\",\n",
    "    aws_access_key_id=response[\"Credentials\"][\"AccessKeyId\"],\n",
    "    aws_secret_access_key=response[\"Credentials\"][\"SecretAccessKey\"],\n",
    "    aws_session_token=response[\"Credentials\"][\"SessionToken\"] \n",
    ")"
   ]
  },
  {
   "cell_type": "code",
   "execution_count": 27,
   "id": "65711cbc",
   "metadata": {},
   "outputs": [],
   "source": [
    "ENDPOINT_NAME = \"mme-xgboost-housing\"\n",
    "INPUT = \"1972, 2844, 3, 2.5, 0.74, 2\"\n",
    "TARGET_MODEL=\"NewYork_NY.tar.gz\"\n",
    "MIME_TYPE=\"text/csv\"\n",
    "response = sm.invoke_endpoint(\n",
    "    EndpointName=ENDPOINT_NAME, \n",
    "    ContentType=MIME_TYPE,\n",
    "    TargetModel=TARGET_MODEL,\n",
    "    Body=INPUT\n",
    "    )"
   ]
  },
  {
   "cell_type": "code",
   "execution_count": 28,
   "id": "94cf4adb",
   "metadata": {},
   "outputs": [],
   "source": [
    "result = response[\"Body\"].read()"
   ]
  },
  {
   "cell_type": "code",
   "execution_count": 29,
   "id": "79c64740",
   "metadata": {},
   "outputs": [],
   "source": [
    "value = float(result.decode(\"utf-8\").replace(\"[\",\"\").replace(\"]\",\"\"))"
   ]
  },
  {
   "cell_type": "code",
   "execution_count": null,
   "id": "3bc4d5af",
   "metadata": {},
   "outputs": [],
   "source": [
    "print(\"${:,.2f}\\n\".format(value))"
   ]
  }
 ],
 "metadata": {
  "kernelspec": {
   "display_name": "conda_python3",
   "language": "python",
   "name": "conda_python3"
  },
  "language_info": {
   "codemirror_mode": {
    "name": "ipython",
    "version": 3
   },
   "file_extension": ".py",
   "mimetype": "text/x-python",
   "name": "python",
   "nbconvert_exporter": "python",
   "pygments_lexer": "ipython3",
   "version": "3.6.13"
  }
 },
 "nbformat": 4,
 "nbformat_minor": 5
}
